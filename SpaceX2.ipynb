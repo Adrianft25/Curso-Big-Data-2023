{
  "cells": [
    {
      "cell_type": "markdown",
      "metadata": {
        "id": "view-in-github",
        "colab_type": "text"
      },
      "source": [
        "<a href=\"https://colab.research.google.com/github/Adrianft25/Curso-Big-Data-2023/blob/main/SpaceX2.ipynb\" target=\"_parent\"><img src=\"https://colab.research.google.com/assets/colab-badge.svg\" alt=\"Open In Colab\"/></a>"
      ]
    },
    {
      "cell_type": "markdown",
      "metadata": {
        "id": "G0DRI0cwU9Gr"
      },
      "source": [
        "# **Etapa 2: Análisis de datos exploratorio**\n"
      ]
    },
    {
      "cell_type": "markdown",
      "metadata": {
        "id": "AJCdTmyoU9Gs"
      },
      "source": [
        "En esta práctica realizaremos un poco de análisis de datos exploratorio en la búsqueda de patrones en los datos y así determinar que valores deberíamos usar para realizar predicciones en un futuro.\n",
        "\n",
        "Veremos si podemos predecir la probabilidad de éxito basandonos en ciertas categorías.\n",
        "\n"
      ]
    },
    {
      "cell_type": "markdown",
      "metadata": {
        "id": "VmRlrhLBU9Gu"
      },
      "source": [
        "## Objectivos\n",
        "\n",
        "Realizar un análisis exploratorio de los datos y obtener nuestras primeras conclusiones.\n"
      ]
    },
    {
      "cell_type": "markdown",
      "metadata": {
        "id": "ouw8RjKzU9Gv"
      },
      "source": [
        "***\n"
      ]
    },
    {
      "cell_type": "markdown",
      "metadata": {
        "id": "TZUKk1dDU9Gv"
      },
      "source": [
        "## Importación de librerias"
      ]
    },
    {
      "cell_type": "code",
      "execution_count": 107,
      "metadata": {
        "id": "bhtXX151U9Gw"
      },
      "outputs": [],
      "source": [
        "import pandas as pd\n",
        "import numpy as np"
      ]
    },
    {
      "cell_type": "markdown",
      "metadata": {
        "id": "aLiB_ERLU9Gx"
      },
      "source": [
        "### Análisis de datos.\n"
      ]
    },
    {
      "cell_type": "markdown",
      "metadata": {
        "id": "jYNox-qgU9Gx"
      },
      "source": [
        "Carga el archivo `.csv` generado en la práctica anterior. Recuerda que primero deberás subir el archivo a google collab."
      ]
    },
    {
      "cell_type": "code",
      "execution_count": 108,
      "metadata": {
        "colab": {
          "base_uri": "https://localhost:8080/",
          "height": 635
        },
        "id": "-25Z6VHBU9Gx",
        "outputId": "5030b860-2459-40ba-f449-74b428ec1a42"
      },
      "outputs": [
        {
          "output_type": "execute_result",
          "data": {
            "text/plain": [
              "   FlightNumber        Date BoosterVersion  PayloadMass  \\\n",
              "0             1  2010-06-04       Falcon 9   8191.07911   \n",
              "1             2  2012-05-22       Falcon 9    525.00000   \n",
              "2             3  2013-03-01       Falcon 9    677.00000   \n",
              "3             4  2013-09-29       Falcon 9    500.00000   \n",
              "4             5  2013-12-03       Falcon 9   3170.00000   \n",
              "5             6  2014-01-06       Falcon 9   3325.00000   \n",
              "6             7  2014-04-18       Falcon 9   2296.00000   \n",
              "7             8  2014-07-14       Falcon 9   1316.00000   \n",
              "8             9  2014-08-05       Falcon 9   4535.00000   \n",
              "9            10  2014-09-07       Falcon 9   4428.00000   \n",
              "\n",
              "                     Payload Orbit    LaunchSite LandingOutcome  Flights  \\\n",
              "0  Dragon Qualification Unit   LEO  CCSFS SLC 40      None None        1   \n",
              "1         COTS Demo Flight 2   LEO  CCSFS SLC 40      None None        1   \n",
              "2                      CRS-2   ISS  CCSFS SLC 40      None None        1   \n",
              "3                   CASSIOPE    PO   VAFB SLC 4E    False Ocean        1   \n",
              "4                      SES-8   GTO  CCSFS SLC 40      None None        1   \n",
              "5                  Thaicom 6   GTO  CCSFS SLC 40      None None        1   \n",
              "6                      CRS-3   ISS  CCSFS SLC 40     True Ocean        1   \n",
              "7             Orbcomm-OG2-M1   LEO  CCSFS SLC 40     True Ocean        1   \n",
              "8                  AsiaSat 8   GTO  CCSFS SLC 40      None None        1   \n",
              "9                  AsiaSat 6   GTO  CCSFS SLC 40      None None        1   \n",
              "\n",
              "   GridFins  Reused   Legs LandingPad  Block   Customers Mission_Outcome  \\\n",
              "0     False   False  False        NaN    1.0      SpaceX            True   \n",
              "1     False   False  False        NaN    1.0  NASA(COTS)            True   \n",
              "2     False   False  False        NaN    1.0  NASA (CRS)            True   \n",
              "3     False   False  False        NaN    1.0         MDA            True   \n",
              "4     False   False  False        NaN    1.0         SES            True   \n",
              "5     False   False  False        NaN    1.0     Thaicom            True   \n",
              "6     False   False   True        NaN    1.0  NASA (CRS)            True   \n",
              "7     False   False   True        NaN    1.0     Orbcomm            True   \n",
              "8     False   False  False        NaN    1.0     AsiaSat            True   \n",
              "9     False   False  False        NaN    1.0     AsiaSat            True   \n",
              "\n",
              "   ReusedCount Serial   Longitude   Latitude  \n",
              "0            0  B0003  -80.577366  28.561857  \n",
              "1            0  B0005  -80.577366  28.561857  \n",
              "2            0  B0007  -80.577366  28.561857  \n",
              "3            0  B1003 -120.610829  34.632093  \n",
              "4            0  B1004  -80.577366  28.561857  \n",
              "5            0  B1005  -80.577366  28.561857  \n",
              "6            0  B1006  -80.577366  28.561857  \n",
              "7            0  B1007  -80.577366  28.561857  \n",
              "8            0  B1008  -80.577366  28.561857  \n",
              "9            0  B1011  -80.577366  28.561857  "
            ],
            "text/html": [
              "\n",
              "  <div id=\"df-e3491c6e-619d-47cd-9627-0951e449d03a\">\n",
              "    <div class=\"colab-df-container\">\n",
              "      <div>\n",
              "<style scoped>\n",
              "    .dataframe tbody tr th:only-of-type {\n",
              "        vertical-align: middle;\n",
              "    }\n",
              "\n",
              "    .dataframe tbody tr th {\n",
              "        vertical-align: top;\n",
              "    }\n",
              "\n",
              "    .dataframe thead th {\n",
              "        text-align: right;\n",
              "    }\n",
              "</style>\n",
              "<table border=\"1\" class=\"dataframe\">\n",
              "  <thead>\n",
              "    <tr style=\"text-align: right;\">\n",
              "      <th></th>\n",
              "      <th>FlightNumber</th>\n",
              "      <th>Date</th>\n",
              "      <th>BoosterVersion</th>\n",
              "      <th>PayloadMass</th>\n",
              "      <th>Payload</th>\n",
              "      <th>Orbit</th>\n",
              "      <th>LaunchSite</th>\n",
              "      <th>LandingOutcome</th>\n",
              "      <th>Flights</th>\n",
              "      <th>GridFins</th>\n",
              "      <th>Reused</th>\n",
              "      <th>Legs</th>\n",
              "      <th>LandingPad</th>\n",
              "      <th>Block</th>\n",
              "      <th>Customers</th>\n",
              "      <th>Mission_Outcome</th>\n",
              "      <th>ReusedCount</th>\n",
              "      <th>Serial</th>\n",
              "      <th>Longitude</th>\n",
              "      <th>Latitude</th>\n",
              "    </tr>\n",
              "  </thead>\n",
              "  <tbody>\n",
              "    <tr>\n",
              "      <th>0</th>\n",
              "      <td>1</td>\n",
              "      <td>2010-06-04</td>\n",
              "      <td>Falcon 9</td>\n",
              "      <td>8191.07911</td>\n",
              "      <td>Dragon Qualification Unit</td>\n",
              "      <td>LEO</td>\n",
              "      <td>CCSFS SLC 40</td>\n",
              "      <td>None None</td>\n",
              "      <td>1</td>\n",
              "      <td>False</td>\n",
              "      <td>False</td>\n",
              "      <td>False</td>\n",
              "      <td>NaN</td>\n",
              "      <td>1.0</td>\n",
              "      <td>SpaceX</td>\n",
              "      <td>True</td>\n",
              "      <td>0</td>\n",
              "      <td>B0003</td>\n",
              "      <td>-80.577366</td>\n",
              "      <td>28.561857</td>\n",
              "    </tr>\n",
              "    <tr>\n",
              "      <th>1</th>\n",
              "      <td>2</td>\n",
              "      <td>2012-05-22</td>\n",
              "      <td>Falcon 9</td>\n",
              "      <td>525.00000</td>\n",
              "      <td>COTS Demo Flight 2</td>\n",
              "      <td>LEO</td>\n",
              "      <td>CCSFS SLC 40</td>\n",
              "      <td>None None</td>\n",
              "      <td>1</td>\n",
              "      <td>False</td>\n",
              "      <td>False</td>\n",
              "      <td>False</td>\n",
              "      <td>NaN</td>\n",
              "      <td>1.0</td>\n",
              "      <td>NASA(COTS)</td>\n",
              "      <td>True</td>\n",
              "      <td>0</td>\n",
              "      <td>B0005</td>\n",
              "      <td>-80.577366</td>\n",
              "      <td>28.561857</td>\n",
              "    </tr>\n",
              "    <tr>\n",
              "      <th>2</th>\n",
              "      <td>3</td>\n",
              "      <td>2013-03-01</td>\n",
              "      <td>Falcon 9</td>\n",
              "      <td>677.00000</td>\n",
              "      <td>CRS-2</td>\n",
              "      <td>ISS</td>\n",
              "      <td>CCSFS SLC 40</td>\n",
              "      <td>None None</td>\n",
              "      <td>1</td>\n",
              "      <td>False</td>\n",
              "      <td>False</td>\n",
              "      <td>False</td>\n",
              "      <td>NaN</td>\n",
              "      <td>1.0</td>\n",
              "      <td>NASA (CRS)</td>\n",
              "      <td>True</td>\n",
              "      <td>0</td>\n",
              "      <td>B0007</td>\n",
              "      <td>-80.577366</td>\n",
              "      <td>28.561857</td>\n",
              "    </tr>\n",
              "    <tr>\n",
              "      <th>3</th>\n",
              "      <td>4</td>\n",
              "      <td>2013-09-29</td>\n",
              "      <td>Falcon 9</td>\n",
              "      <td>500.00000</td>\n",
              "      <td>CASSIOPE</td>\n",
              "      <td>PO</td>\n",
              "      <td>VAFB SLC 4E</td>\n",
              "      <td>False Ocean</td>\n",
              "      <td>1</td>\n",
              "      <td>False</td>\n",
              "      <td>False</td>\n",
              "      <td>False</td>\n",
              "      <td>NaN</td>\n",
              "      <td>1.0</td>\n",
              "      <td>MDA</td>\n",
              "      <td>True</td>\n",
              "      <td>0</td>\n",
              "      <td>B1003</td>\n",
              "      <td>-120.610829</td>\n",
              "      <td>34.632093</td>\n",
              "    </tr>\n",
              "    <tr>\n",
              "      <th>4</th>\n",
              "      <td>5</td>\n",
              "      <td>2013-12-03</td>\n",
              "      <td>Falcon 9</td>\n",
              "      <td>3170.00000</td>\n",
              "      <td>SES-8</td>\n",
              "      <td>GTO</td>\n",
              "      <td>CCSFS SLC 40</td>\n",
              "      <td>None None</td>\n",
              "      <td>1</td>\n",
              "      <td>False</td>\n",
              "      <td>False</td>\n",
              "      <td>False</td>\n",
              "      <td>NaN</td>\n",
              "      <td>1.0</td>\n",
              "      <td>SES</td>\n",
              "      <td>True</td>\n",
              "      <td>0</td>\n",
              "      <td>B1004</td>\n",
              "      <td>-80.577366</td>\n",
              "      <td>28.561857</td>\n",
              "    </tr>\n",
              "    <tr>\n",
              "      <th>5</th>\n",
              "      <td>6</td>\n",
              "      <td>2014-01-06</td>\n",
              "      <td>Falcon 9</td>\n",
              "      <td>3325.00000</td>\n",
              "      <td>Thaicom 6</td>\n",
              "      <td>GTO</td>\n",
              "      <td>CCSFS SLC 40</td>\n",
              "      <td>None None</td>\n",
              "      <td>1</td>\n",
              "      <td>False</td>\n",
              "      <td>False</td>\n",
              "      <td>False</td>\n",
              "      <td>NaN</td>\n",
              "      <td>1.0</td>\n",
              "      <td>Thaicom</td>\n",
              "      <td>True</td>\n",
              "      <td>0</td>\n",
              "      <td>B1005</td>\n",
              "      <td>-80.577366</td>\n",
              "      <td>28.561857</td>\n",
              "    </tr>\n",
              "    <tr>\n",
              "      <th>6</th>\n",
              "      <td>7</td>\n",
              "      <td>2014-04-18</td>\n",
              "      <td>Falcon 9</td>\n",
              "      <td>2296.00000</td>\n",
              "      <td>CRS-3</td>\n",
              "      <td>ISS</td>\n",
              "      <td>CCSFS SLC 40</td>\n",
              "      <td>True Ocean</td>\n",
              "      <td>1</td>\n",
              "      <td>False</td>\n",
              "      <td>False</td>\n",
              "      <td>True</td>\n",
              "      <td>NaN</td>\n",
              "      <td>1.0</td>\n",
              "      <td>NASA (CRS)</td>\n",
              "      <td>True</td>\n",
              "      <td>0</td>\n",
              "      <td>B1006</td>\n",
              "      <td>-80.577366</td>\n",
              "      <td>28.561857</td>\n",
              "    </tr>\n",
              "    <tr>\n",
              "      <th>7</th>\n",
              "      <td>8</td>\n",
              "      <td>2014-07-14</td>\n",
              "      <td>Falcon 9</td>\n",
              "      <td>1316.00000</td>\n",
              "      <td>Orbcomm-OG2-M1</td>\n",
              "      <td>LEO</td>\n",
              "      <td>CCSFS SLC 40</td>\n",
              "      <td>True Ocean</td>\n",
              "      <td>1</td>\n",
              "      <td>False</td>\n",
              "      <td>False</td>\n",
              "      <td>True</td>\n",
              "      <td>NaN</td>\n",
              "      <td>1.0</td>\n",
              "      <td>Orbcomm</td>\n",
              "      <td>True</td>\n",
              "      <td>0</td>\n",
              "      <td>B1007</td>\n",
              "      <td>-80.577366</td>\n",
              "      <td>28.561857</td>\n",
              "    </tr>\n",
              "    <tr>\n",
              "      <th>8</th>\n",
              "      <td>9</td>\n",
              "      <td>2014-08-05</td>\n",
              "      <td>Falcon 9</td>\n",
              "      <td>4535.00000</td>\n",
              "      <td>AsiaSat 8</td>\n",
              "      <td>GTO</td>\n",
              "      <td>CCSFS SLC 40</td>\n",
              "      <td>None None</td>\n",
              "      <td>1</td>\n",
              "      <td>False</td>\n",
              "      <td>False</td>\n",
              "      <td>False</td>\n",
              "      <td>NaN</td>\n",
              "      <td>1.0</td>\n",
              "      <td>AsiaSat</td>\n",
              "      <td>True</td>\n",
              "      <td>0</td>\n",
              "      <td>B1008</td>\n",
              "      <td>-80.577366</td>\n",
              "      <td>28.561857</td>\n",
              "    </tr>\n",
              "    <tr>\n",
              "      <th>9</th>\n",
              "      <td>10</td>\n",
              "      <td>2014-09-07</td>\n",
              "      <td>Falcon 9</td>\n",
              "      <td>4428.00000</td>\n",
              "      <td>AsiaSat 6</td>\n",
              "      <td>GTO</td>\n",
              "      <td>CCSFS SLC 40</td>\n",
              "      <td>None None</td>\n",
              "      <td>1</td>\n",
              "      <td>False</td>\n",
              "      <td>False</td>\n",
              "      <td>False</td>\n",
              "      <td>NaN</td>\n",
              "      <td>1.0</td>\n",
              "      <td>AsiaSat</td>\n",
              "      <td>True</td>\n",
              "      <td>0</td>\n",
              "      <td>B1011</td>\n",
              "      <td>-80.577366</td>\n",
              "      <td>28.561857</td>\n",
              "    </tr>\n",
              "  </tbody>\n",
              "</table>\n",
              "</div>\n",
              "      <button class=\"colab-df-convert\" onclick=\"convertToInteractive('df-e3491c6e-619d-47cd-9627-0951e449d03a')\"\n",
              "              title=\"Convert this dataframe to an interactive table.\"\n",
              "              style=\"display:none;\">\n",
              "        \n",
              "  <svg xmlns=\"http://www.w3.org/2000/svg\" height=\"24px\"viewBox=\"0 0 24 24\"\n",
              "       width=\"24px\">\n",
              "    <path d=\"M0 0h24v24H0V0z\" fill=\"none\"/>\n",
              "    <path d=\"M18.56 5.44l.94 2.06.94-2.06 2.06-.94-2.06-.94-.94-2.06-.94 2.06-2.06.94zm-11 1L8.5 8.5l.94-2.06 2.06-.94-2.06-.94L8.5 2.5l-.94 2.06-2.06.94zm10 10l.94 2.06.94-2.06 2.06-.94-2.06-.94-.94-2.06-.94 2.06-2.06.94z\"/><path d=\"M17.41 7.96l-1.37-1.37c-.4-.4-.92-.59-1.43-.59-.52 0-1.04.2-1.43.59L10.3 9.45l-7.72 7.72c-.78.78-.78 2.05 0 2.83L4 21.41c.39.39.9.59 1.41.59.51 0 1.02-.2 1.41-.59l7.78-7.78 2.81-2.81c.8-.78.8-2.07 0-2.86zM5.41 20L4 18.59l7.72-7.72 1.47 1.35L5.41 20z\"/>\n",
              "  </svg>\n",
              "      </button>\n",
              "      \n",
              "  <style>\n",
              "    .colab-df-container {\n",
              "      display:flex;\n",
              "      flex-wrap:wrap;\n",
              "      gap: 12px;\n",
              "    }\n",
              "\n",
              "    .colab-df-convert {\n",
              "      background-color: #E8F0FE;\n",
              "      border: none;\n",
              "      border-radius: 50%;\n",
              "      cursor: pointer;\n",
              "      display: none;\n",
              "      fill: #1967D2;\n",
              "      height: 32px;\n",
              "      padding: 0 0 0 0;\n",
              "      width: 32px;\n",
              "    }\n",
              "\n",
              "    .colab-df-convert:hover {\n",
              "      background-color: #E2EBFA;\n",
              "      box-shadow: 0px 1px 2px rgba(60, 64, 67, 0.3), 0px 1px 3px 1px rgba(60, 64, 67, 0.15);\n",
              "      fill: #174EA6;\n",
              "    }\n",
              "\n",
              "    [theme=dark] .colab-df-convert {\n",
              "      background-color: #3B4455;\n",
              "      fill: #D2E3FC;\n",
              "    }\n",
              "\n",
              "    [theme=dark] .colab-df-convert:hover {\n",
              "      background-color: #434B5C;\n",
              "      box-shadow: 0px 1px 3px 1px rgba(0, 0, 0, 0.15);\n",
              "      filter: drop-shadow(0px 1px 2px rgba(0, 0, 0, 0.3));\n",
              "      fill: #FFFFFF;\n",
              "    }\n",
              "  </style>\n",
              "\n",
              "      <script>\n",
              "        const buttonEl =\n",
              "          document.querySelector('#df-e3491c6e-619d-47cd-9627-0951e449d03a button.colab-df-convert');\n",
              "        buttonEl.style.display =\n",
              "          google.colab.kernel.accessAllowed ? 'block' : 'none';\n",
              "\n",
              "        async function convertToInteractive(key) {\n",
              "          const element = document.querySelector('#df-e3491c6e-619d-47cd-9627-0951e449d03a');\n",
              "          const dataTable =\n",
              "            await google.colab.kernel.invokeFunction('convertToInteractive',\n",
              "                                                     [key], {});\n",
              "          if (!dataTable) return;\n",
              "\n",
              "          const docLinkHtml = 'Like what you see? Visit the ' +\n",
              "            '<a target=\"_blank\" href=https://colab.research.google.com/notebooks/data_table.ipynb>data table notebook</a>'\n",
              "            + ' to learn more about interactive tables.';\n",
              "          element.innerHTML = '';\n",
              "          dataTable['output_type'] = 'display_data';\n",
              "          await google.colab.output.renderOutput(dataTable, element);\n",
              "          const docLink = document.createElement('div');\n",
              "          docLink.innerHTML = docLinkHtml;\n",
              "          element.appendChild(docLink);\n",
              "        }\n",
              "      </script>\n",
              "    </div>\n",
              "  </div>\n",
              "  "
            ]
          },
          "metadata": {},
          "execution_count": 108
        }
      ],
      "source": [
        "df=pd.read_csv(\"./dataset_part_1.csv\")\n",
        "df.head(10)"
      ]
    },
    {
      "cell_type": "markdown",
      "metadata": {
        "id": "FDM0avN-U9G0"
      },
      "source": [
        "### Tarea 1: Calcula el número de lanzamientos en cada plataforma.\n",
        "\n",
        "Los datos contienen diferentes plataformas como:\n",
        "\n",
        "\n",
        "*   El complejo de lanzamiento de Cabo Cañaveral (VAFB SLC 4E)\n",
        "*   La base de las fuerzas aéreas de Vanderberg (SLC-4E)\n",
        "* El centro de lanzamientos Kennedy (KSC LC 39A).\n",
        "Veamos cual de ellas es mas popular:\n",
        "\n",
        "\n",
        "\n"
      ]
    },
    {
      "cell_type": "markdown",
      "metadata": {
        "id": "hLv1qgOtU9G0"
      },
      "source": [
        "*Utilizando el método `value_counts()` en la columna `LaunchSite` determina el número de lanzamientos en cada plataforma.*"
      ]
    },
    {
      "cell_type": "code",
      "execution_count": 109,
      "metadata": {
        "colab": {
          "base_uri": "https://localhost:8080/"
        },
        "id": "CwXeGBEjU9G0",
        "outputId": "c2f31886-8784-423d-f10c-715dc8492c49"
      },
      "outputs": [
        {
          "output_type": "execute_result",
          "data": {
            "text/plain": [
              "CCSFS SLC 40    93\n",
              "KSC LC 39A      49\n",
              "VAFB SLC 4E     26\n",
              "Name: LaunchSite, dtype: int64"
            ]
          },
          "metadata": {},
          "execution_count": 109
        }
      ],
      "source": [
        "#INSERTA AQUÍ TU CÓDIGO\n",
        "df['LaunchSite'].value_counts()"
      ]
    },
    {
      "cell_type": "markdown",
      "metadata": {
        "id": "sSMruMkZU9G2"
      },
      "source": [
        "### Tarea 2: Calcula el número de lanzamientos para cada órbita.\n"
      ]
    },
    {
      "cell_type": "markdown",
      "metadata": {
        "id": "TJBImnnZU9G1"
      },
      "source": [
        "Cada lanzamiento tiene como objetivo una órbita diferente, estas son las más comunes:\n"
      ]
    },
    {
      "cell_type": "markdown",
      "metadata": {
        "id": "d46mxyGPU9G2"
      },
      "source": [
        "![](https://cf-courses-data.s3.us.cloud-object-storage.appdomain.cloud/IBMDeveloperSkillsNetwork-DS0701EN-SkillsNetwork/api/Images/Orbits.png)\n"
      ]
    },
    {
      "cell_type": "markdown",
      "metadata": {
        "id": "P9DbVQ5UU9G2"
      },
      "source": [
        "*Utilizando el método `value_counts()` en la columna `Orbit` determina el número de lanzamientos en cada órbita.*\n",
        "\n"
      ]
    },
    {
      "cell_type": "code",
      "execution_count": 110,
      "metadata": {
        "colab": {
          "base_uri": "https://localhost:8080/"
        },
        "id": "RvSnO_C3U9G3",
        "outputId": "1908d038-cf3b-4786-e522-ce1b86e1e202"
      },
      "outputs": [
        {
          "output_type": "execute_result",
          "data": {
            "text/plain": [
              "VLEO     54\n",
              "ISS      32\n",
              "GTO      31\n",
              "LEO      14\n",
              "PO       13\n",
              "SSO      11\n",
              "MEO       5\n",
              "GEO       2\n",
              "TLI       2\n",
              "ES-L1     1\n",
              "HEO       1\n",
              "SO        1\n",
              "Name: Orbit, dtype: int64"
            ]
          },
          "metadata": {},
          "execution_count": 110
        }
      ],
      "source": [
        "#INSERTA AQUÍ TU CÓDIGO\n",
        "df['Orbit'].value_counts()"
      ]
    },
    {
      "cell_type": "markdown",
      "metadata": {
        "id": "4RL0SONCU9G4"
      },
      "source": [
        "### Tarea 3: Calcula el número de diferentes resultados de aterrizaje, distingue los exitosos de los fallidos.\n"
      ]
    },
    {
      "cell_type": "markdown",
      "metadata": {
        "id": "V7d8tCjGU9G4"
      },
      "source": [
        "*Utilizando el método `value_counts()` en la columna `LandingOutcome` determina el número de lanzamientos en cada órbita. Asigna el resultado a la varibale `landing_outcomes`.*\n"
      ]
    },
    {
      "cell_type": "code",
      "execution_count": 111,
      "metadata": {
        "colab": {
          "base_uri": "https://localhost:8080/"
        },
        "id": "72CQL0b4U9G5",
        "outputId": "4ea48990-6d2e-443a-cb9f-08f522682de3"
      },
      "outputs": [
        {
          "output_type": "execute_result",
          "data": {
            "text/plain": [
              "True ASDS      109\n",
              "True RTLS       23\n",
              "None None       19\n",
              "False ASDS       7\n",
              "True Ocean       5\n",
              "False Ocean      2\n",
              "None ASDS        2\n",
              "False RTLS       1\n",
              "Name: LandingOutcome, dtype: int64"
            ]
          },
          "metadata": {},
          "execution_count": 111
        }
      ],
      "source": [
        "#INSERTA AQUÍ TU CÓDIGO\n",
        "landing_outcomes = df['LandingOutcome'].value_counts()\n",
        "landing_outcomes"
      ]
    },
    {
      "cell_type": "markdown",
      "metadata": {
        "id": "zymTL7YzU9G5"
      },
      "source": [
        "Observemos que la variable `LandingOutcome` esta separada en 2 partes. \n",
        "\n",
        "La primera toma valores `True`,`False` y `None`. \n",
        "*   `True` implica que el cohete aterrizó con éxito.\n",
        "*   `False` implica que el cohete no aterrizó con éxito\n",
        "* `None` implica que el cohete no inició el aterrizaje.\n",
        "\n",
        "La segunda parte toma valores `ASDS`,`Ocean`, `RTLS` y `None`.\n",
        "* `ASDS` implica que el cohete tenía intención de aterrizar sobre un portaaviones.\n",
        "* `Ocean` implica que el cohete tenía intención de aterrizar en el oceano.\n",
        "* `RTLS` implica que el cohete tenía intención de aterrizar sobre una plataforma terrestre .\n",
        "* `None` implica que el cohete no tenía intención de aterrizar.\n",
        "\n",
        "\n"
      ]
    },
    {
      "cell_type": "markdown",
      "source": [
        "Vamos a intentar ver que resultado ha tenido cada cohete en las diferentes órbitas.\n",
        "*Crea un dataframe llamado `df2` con solamente las columnas `'Orbit','LandingOutcome'`. Aplica a este dataframe una agrupación por `'Orbit','LandingOutcome'` mediante `df2.groupby([Columnas])` y añade el atributo `.size()` para ver el número de resultados en cada categoría."
      ],
      "metadata": {
        "id": "ifqlaCOPJ0d4"
      }
    },
    {
      "cell_type": "code",
      "source": [
        "#INSERTA AQUÍ TU CÓDIGO\n",
        "df2 = df[['Orbit', 'LandingOutcome']]\n",
        "df2.groupby(['Orbit', 'LandingOutcome']).size()"
      ],
      "metadata": {
        "colab": {
          "base_uri": "https://localhost:8080/"
        },
        "id": "q4TM0EIfJ1UU",
        "outputId": "30aaef56-1945-4136-9705-88eff16917be"
      },
      "execution_count": 112,
      "outputs": [
        {
          "output_type": "execute_result",
          "data": {
            "text/plain": [
              "Orbit  LandingOutcome\n",
              "ES-L1  True Ocean         1\n",
              "GEO    True ASDS          2\n",
              "GTO    False ASDS         1\n",
              "       None ASDS          1\n",
              "       None None         11\n",
              "       True ASDS         17\n",
              "       True Ocean         1\n",
              "HEO    True ASDS          1\n",
              "ISS    False ASDS         2\n",
              "       False Ocean        1\n",
              "       False RTLS         1\n",
              "       None ASDS          1\n",
              "       None None          3\n",
              "       True ASDS         16\n",
              "       True Ocean         1\n",
              "       True RTLS          7\n",
              "LEO    None None          2\n",
              "       True ASDS          4\n",
              "       True Ocean         1\n",
              "       True RTLS          7\n",
              "MEO    None None          1\n",
              "       True ASDS          4\n",
              "PO     False ASDS         1\n",
              "       False Ocean        1\n",
              "       None None          1\n",
              "       True ASDS          8\n",
              "       True Ocean         1\n",
              "       True RTLS          1\n",
              "SO     None None          1\n",
              "SSO    True ASDS          4\n",
              "       True RTLS          7\n",
              "TLI    True ASDS          2\n",
              "VLEO   False ASDS         3\n",
              "       True ASDS         51\n",
              "dtype: int64"
            ]
          },
          "metadata": {},
          "execution_count": 112
        }
      ]
    },
    {
      "cell_type": "markdown",
      "metadata": {
        "id": "11sY67yiU9G6"
      },
      "source": [
        "En el resultado del anterior ejercicio podemos observar los diferentes resultados para cada órbita, que pese a ser detallados son confusos. Veamos como solucionar esto.\n"
      ]
    },
    {
      "cell_type": "markdown",
      "metadata": {
        "id": "k1BYTqheU9G7"
      },
      "source": [
        "### Tarea 4: Crea una columna Class utilizando LandingOutcome\n"
      ]
    },
    {
      "cell_type": "markdown",
      "source": [
        "Previamente hemos guardado en `landing_outcomes` el recuento de los diferentes aterrizajes:"
      ],
      "metadata": {
        "id": "Du7r84vgK5Gk"
      }
    },
    {
      "cell_type": "code",
      "source": [
        "print(landing_outcomes)"
      ],
      "metadata": {
        "colab": {
          "base_uri": "https://localhost:8080/"
        },
        "id": "5FpetNaKLS8A",
        "outputId": "f6ddb997-f9d1-4e9c-926d-5d830f229456"
      },
      "execution_count": 113,
      "outputs": [
        {
          "output_type": "stream",
          "name": "stdout",
          "text": [
            "True ASDS      109\n",
            "True RTLS       23\n",
            "None None       19\n",
            "False ASDS       7\n",
            "True Ocean       5\n",
            "False Ocean      2\n",
            "None ASDS        2\n",
            "False RTLS       1\n",
            "Name: LandingOutcome, dtype: int64\n"
          ]
        }
      ]
    },
    {
      "cell_type": "markdown",
      "source": [
        "*La variable anterior es un diccionario, utilizandola crea un conjunto con los diferentes casos donde el cohete no aterrizó satisfactoriamente. Llama a este conjunto `bad_outcomes`*"
      ],
      "metadata": {
        "id": "IQwJyv5LLTVd"
      }
    },
    {
      "cell_type": "code",
      "execution_count": 114,
      "metadata": {
        "colab": {
          "base_uri": "https://localhost:8080/"
        },
        "id": "3-ubBsAkU9G7",
        "outputId": "3c16ec0c-796a-4cc3-b465-384b53613f95"
      },
      "outputs": [
        {
          "output_type": "execute_result",
          "data": {
            "text/plain": [
              "{'False ASDS', 'False Ocean', 'False RTLS', 'None ASDS', 'None None'}"
            ]
          },
          "metadata": {},
          "execution_count": 114
        }
      ],
      "source": [
        "#INSERTA AQUÍ TU CÓDIGO\n",
        "llaves = landing_outcomes.keys()\n",
        "#print(type(llaves))\n",
        "\n",
        "bad_outcomes = set()\n",
        "for llave in llaves:\n",
        "  if \"None\" in llave or \"False\" in llave:\n",
        "    bad_outcomes.add(llave)\n",
        "\n",
        "bad_outcomes"
      ]
    },
    {
      "cell_type": "markdown",
      "metadata": {
        "id": "VJRwqwGtU9G7"
      },
      "source": [
        "Creemonos ahora una lista llamada `landing_class` que tomará valores 0 y 1 según si el resultado es satisfactorio o no.\n",
        "* *Recorre para cada celda la columna `LandingOutcome`.*\n",
        "* *Comprueba si el valor pertenece al conjunto `bad_outcomes`. Si pertenece adjunta un 0 a la lista `landing_class`, si no, adjunta un 1.*"
      ]
    },
    {
      "cell_type": "code",
      "execution_count": 115,
      "metadata": {
        "id": "BZZfTfyqU9G8"
      },
      "outputs": [],
      "source": [
        "#INSERTA AQUÍ TU CÓDIGO\n",
        "landing_class = []\n",
        "\n",
        "for linea in df['LandingOutcome']:\n",
        "  if linea in bad_outcomes:\n",
        "    landing_class.append(0)\n",
        "  else:\n",
        "    landing_class.append(1)\n"
      ]
    },
    {
      "cell_type": "markdown",
      "metadata": {
        "id": "QvCHRlmOU9G8"
      },
      "source": [
        "*Añade esta lista al dataframe como una columna con nombre `Class`*"
      ]
    },
    {
      "cell_type": "code",
      "execution_count": null,
      "metadata": {
        "id": "gt6RfUyAU9G9"
      },
      "outputs": [],
      "source": [
        "#INSERTA AQUÍ TU CÓDIGO\n",
        "df = df.assign(Class=landing_class)\n",
        "df"
      ]
    },
    {
      "cell_type": "markdown",
      "source": [
        "## Utilizando la columna Class."
      ],
      "metadata": {
        "id": "VsYRs2T8TttS"
      }
    },
    {
      "cell_type": "markdown",
      "metadata": {
        "id": "GjV0E4MPU9G9"
      },
      "source": [
        "*Calcula la media de la columna `class`. Razona que significa este valor.*\n",
        "\n"
      ]
    },
    {
      "cell_type": "code",
      "execution_count": 121,
      "metadata": {
        "colab": {
          "base_uri": "https://localhost:8080/"
        },
        "id": "mcATJqK5U9G-",
        "outputId": "8e194b92-4e5c-43d9-e596-67794aa34043"
      },
      "outputs": [
        {
          "output_type": "execute_result",
          "data": {
            "text/plain": [
              "0.8154761904761905"
            ]
          },
          "metadata": {},
          "execution_count": 121
        }
      ],
      "source": [
        "#INSERTA AQUÍ TU CÓDIGO\n",
        "media = df['Class'].mean()\n",
        "media"
      ]
    },
    {
      "cell_type": "markdown",
      "source": [
        "Al igual que antes, podemos agrupar los lanzamientos por la órbita.\n",
        "*Crea df3 donde incluyes las columnas `Orbit` y `Class`. Agrupa por `Orbit` y calcula la media.*"
      ],
      "metadata": {
        "id": "8tytioV_RNyD"
      }
    },
    {
      "cell_type": "code",
      "source": [
        "#INSERTA AQUÍ TU CÓDIGO\n",
        "df3 = df[['Orbit', 'Class']]\n",
        "df3.groupby('Orbit').mean()\n"
      ],
      "metadata": {
        "colab": {
          "base_uri": "https://localhost:8080/",
          "height": 457
        },
        "id": "Ty0zg9ZARkFC",
        "outputId": "ce6dabdd-5dd8-4455-aaa5-9e50ffc34144"
      },
      "execution_count": 124,
      "outputs": [
        {
          "output_type": "execute_result",
          "data": {
            "text/plain": [
              "          Class\n",
              "Orbit          \n",
              "ES-L1  1.000000\n",
              "GEO    1.000000\n",
              "GTO    0.580645\n",
              "HEO    1.000000\n",
              "ISS    0.750000\n",
              "LEO    0.857143\n",
              "MEO    0.800000\n",
              "PO     0.769231\n",
              "SO     0.000000\n",
              "SSO    1.000000\n",
              "TLI    1.000000\n",
              "VLEO   0.944444"
            ],
            "text/html": [
              "\n",
              "  <div id=\"df-ed08e43a-03ab-4796-9dcb-e8cba8e2ec35\">\n",
              "    <div class=\"colab-df-container\">\n",
              "      <div>\n",
              "<style scoped>\n",
              "    .dataframe tbody tr th:only-of-type {\n",
              "        vertical-align: middle;\n",
              "    }\n",
              "\n",
              "    .dataframe tbody tr th {\n",
              "        vertical-align: top;\n",
              "    }\n",
              "\n",
              "    .dataframe thead th {\n",
              "        text-align: right;\n",
              "    }\n",
              "</style>\n",
              "<table border=\"1\" class=\"dataframe\">\n",
              "  <thead>\n",
              "    <tr style=\"text-align: right;\">\n",
              "      <th></th>\n",
              "      <th>Class</th>\n",
              "    </tr>\n",
              "    <tr>\n",
              "      <th>Orbit</th>\n",
              "      <th></th>\n",
              "    </tr>\n",
              "  </thead>\n",
              "  <tbody>\n",
              "    <tr>\n",
              "      <th>ES-L1</th>\n",
              "      <td>1.000000</td>\n",
              "    </tr>\n",
              "    <tr>\n",
              "      <th>GEO</th>\n",
              "      <td>1.000000</td>\n",
              "    </tr>\n",
              "    <tr>\n",
              "      <th>GTO</th>\n",
              "      <td>0.580645</td>\n",
              "    </tr>\n",
              "    <tr>\n",
              "      <th>HEO</th>\n",
              "      <td>1.000000</td>\n",
              "    </tr>\n",
              "    <tr>\n",
              "      <th>ISS</th>\n",
              "      <td>0.750000</td>\n",
              "    </tr>\n",
              "    <tr>\n",
              "      <th>LEO</th>\n",
              "      <td>0.857143</td>\n",
              "    </tr>\n",
              "    <tr>\n",
              "      <th>MEO</th>\n",
              "      <td>0.800000</td>\n",
              "    </tr>\n",
              "    <tr>\n",
              "      <th>PO</th>\n",
              "      <td>0.769231</td>\n",
              "    </tr>\n",
              "    <tr>\n",
              "      <th>SO</th>\n",
              "      <td>0.000000</td>\n",
              "    </tr>\n",
              "    <tr>\n",
              "      <th>SSO</th>\n",
              "      <td>1.000000</td>\n",
              "    </tr>\n",
              "    <tr>\n",
              "      <th>TLI</th>\n",
              "      <td>1.000000</td>\n",
              "    </tr>\n",
              "    <tr>\n",
              "      <th>VLEO</th>\n",
              "      <td>0.944444</td>\n",
              "    </tr>\n",
              "  </tbody>\n",
              "</table>\n",
              "</div>\n",
              "      <button class=\"colab-df-convert\" onclick=\"convertToInteractive('df-ed08e43a-03ab-4796-9dcb-e8cba8e2ec35')\"\n",
              "              title=\"Convert this dataframe to an interactive table.\"\n",
              "              style=\"display:none;\">\n",
              "        \n",
              "  <svg xmlns=\"http://www.w3.org/2000/svg\" height=\"24px\"viewBox=\"0 0 24 24\"\n",
              "       width=\"24px\">\n",
              "    <path d=\"M0 0h24v24H0V0z\" fill=\"none\"/>\n",
              "    <path d=\"M18.56 5.44l.94 2.06.94-2.06 2.06-.94-2.06-.94-.94-2.06-.94 2.06-2.06.94zm-11 1L8.5 8.5l.94-2.06 2.06-.94-2.06-.94L8.5 2.5l-.94 2.06-2.06.94zm10 10l.94 2.06.94-2.06 2.06-.94-2.06-.94-.94-2.06-.94 2.06-2.06.94z\"/><path d=\"M17.41 7.96l-1.37-1.37c-.4-.4-.92-.59-1.43-.59-.52 0-1.04.2-1.43.59L10.3 9.45l-7.72 7.72c-.78.78-.78 2.05 0 2.83L4 21.41c.39.39.9.59 1.41.59.51 0 1.02-.2 1.41-.59l7.78-7.78 2.81-2.81c.8-.78.8-2.07 0-2.86zM5.41 20L4 18.59l7.72-7.72 1.47 1.35L5.41 20z\"/>\n",
              "  </svg>\n",
              "      </button>\n",
              "      \n",
              "  <style>\n",
              "    .colab-df-container {\n",
              "      display:flex;\n",
              "      flex-wrap:wrap;\n",
              "      gap: 12px;\n",
              "    }\n",
              "\n",
              "    .colab-df-convert {\n",
              "      background-color: #E8F0FE;\n",
              "      border: none;\n",
              "      border-radius: 50%;\n",
              "      cursor: pointer;\n",
              "      display: none;\n",
              "      fill: #1967D2;\n",
              "      height: 32px;\n",
              "      padding: 0 0 0 0;\n",
              "      width: 32px;\n",
              "    }\n",
              "\n",
              "    .colab-df-convert:hover {\n",
              "      background-color: #E2EBFA;\n",
              "      box-shadow: 0px 1px 2px rgba(60, 64, 67, 0.3), 0px 1px 3px 1px rgba(60, 64, 67, 0.15);\n",
              "      fill: #174EA6;\n",
              "    }\n",
              "\n",
              "    [theme=dark] .colab-df-convert {\n",
              "      background-color: #3B4455;\n",
              "      fill: #D2E3FC;\n",
              "    }\n",
              "\n",
              "    [theme=dark] .colab-df-convert:hover {\n",
              "      background-color: #434B5C;\n",
              "      box-shadow: 0px 1px 3px 1px rgba(0, 0, 0, 0.15);\n",
              "      filter: drop-shadow(0px 1px 2px rgba(0, 0, 0, 0.3));\n",
              "      fill: #FFFFFF;\n",
              "    }\n",
              "  </style>\n",
              "\n",
              "      <script>\n",
              "        const buttonEl =\n",
              "          document.querySelector('#df-ed08e43a-03ab-4796-9dcb-e8cba8e2ec35 button.colab-df-convert');\n",
              "        buttonEl.style.display =\n",
              "          google.colab.kernel.accessAllowed ? 'block' : 'none';\n",
              "\n",
              "        async function convertToInteractive(key) {\n",
              "          const element = document.querySelector('#df-ed08e43a-03ab-4796-9dcb-e8cba8e2ec35');\n",
              "          const dataTable =\n",
              "            await google.colab.kernel.invokeFunction('convertToInteractive',\n",
              "                                                     [key], {});\n",
              "          if (!dataTable) return;\n",
              "\n",
              "          const docLinkHtml = 'Like what you see? Visit the ' +\n",
              "            '<a target=\"_blank\" href=https://colab.research.google.com/notebooks/data_table.ipynb>data table notebook</a>'\n",
              "            + ' to learn more about interactive tables.';\n",
              "          element.innerHTML = '';\n",
              "          dataTable['output_type'] = 'display_data';\n",
              "          await google.colab.output.renderOutput(dataTable, element);\n",
              "          const docLink = document.createElement('div');\n",
              "          docLink.innerHTML = docLinkHtml;\n",
              "          element.appendChild(docLink);\n",
              "        }\n",
              "      </script>\n",
              "    </div>\n",
              "  </div>\n",
              "  "
            ]
          },
          "metadata": {},
          "execution_count": 124
        }
      ]
    },
    {
      "cell_type": "markdown",
      "source": [
        "Observemos que más de una órbita tiene una probabilidad de éxito 1. Entonces ¿Si lanzamos un cohete a esas órbitas 100% aterrizará correctamente?"
      ],
      "metadata": {
        "id": "QebgZKMiRw49"
      }
    },
    {
      "cell_type": "markdown",
      "source": [
        "Mostremos ahora el número de lanzamientos éxitosos y fallidos en cada órbita. \n",
        "*Aplica sobre df3 un método `groupby()` donde agrupes por las columnas `Orbit`y `Class`. Aplica el método `size()` para ralizar el conteo."
      ],
      "metadata": {
        "id": "bOXkndJqSbLS"
      }
    },
    {
      "cell_type": "code",
      "source": [
        "#INSERTA AQUÍ TU CÓDIGO\n",
        "df3.groupby(['Orbit', 'Class']).size()"
      ],
      "metadata": {
        "colab": {
          "base_uri": "https://localhost:8080/"
        },
        "id": "iOkhi3QgSxav",
        "outputId": "5845a2f5-2355-4b3b-d971-2ad6102111d4"
      },
      "execution_count": 125,
      "outputs": [
        {
          "output_type": "execute_result",
          "data": {
            "text/plain": [
              "Orbit  Class\n",
              "ES-L1  1         1\n",
              "GEO    1         2\n",
              "GTO    0        13\n",
              "       1        18\n",
              "HEO    1         1\n",
              "ISS    0         8\n",
              "       1        24\n",
              "LEO    0         2\n",
              "       1        12\n",
              "MEO    0         1\n",
              "       1         4\n",
              "PO     0         3\n",
              "       1        10\n",
              "SO     0         1\n",
              "SSO    1        11\n",
              "TLI    1         2\n",
              "VLEO   0         3\n",
              "       1        51\n",
              "dtype: int64"
            ]
          },
          "metadata": {},
          "execution_count": 125
        }
      ]
    },
    {
      "cell_type": "markdown",
      "source": [
        "Podemos observar que algunas de nuestras órbitas solamente tienen un lanzamiento y este exitoso (otras solamente uno fallido). En estos casos la muestra es demasiado pequeña como para asegurar la probabilidad de éxito solamente basandonos en la órbita. Por tanto, este no parece ser el méjor predictor de la proabilidad de éxito."
      ],
      "metadata": {
        "id": "Emr34v6GS1Nr"
      }
    },
    {
      "cell_type": "markdown",
      "source": [
        "Retomemos las variables analizadas anteriormente como el LaunchSite.\n",
        "*Crea df4 con las columnas `Class` y `LaunchSite`. Aplica un groupby y calcula la probabilidad de éxito para cada plataforma. Observa el número total de éxitos y fracasos en cada plataforma. Razona si sería un mejor predictor que la órbita.*"
      ],
      "metadata": {
        "id": "Q5mGUg1sT3JK"
      }
    },
    {
      "cell_type": "code",
      "source": [
        "#INSERTA AQUÍ TU CÓDIGO\n",
        "df4 = df[['Class', 'LaunchSite']]\n",
        "print(df4.groupby('LaunchSite').mean())\n",
        "print(df4.groupby(['LaunchSite', 'Class']).size())"
      ],
      "metadata": {
        "colab": {
          "base_uri": "https://localhost:8080/"
        },
        "id": "ZszL3yw9UQc8",
        "outputId": "e96be354-9729-45f5-eb35-19fc72a66305"
      },
      "execution_count": 133,
      "outputs": [
        {
          "output_type": "stream",
          "name": "stdout",
          "text": [
            "                 Class\n",
            "LaunchSite            \n",
            "CCSFS SLC 40  0.752688\n",
            "KSC LC 39A    0.897959\n",
            "VAFB SLC 4E   0.884615\n",
            "LaunchSite    Class\n",
            "CCSFS SLC 40  0        23\n",
            "              1        70\n",
            "KSC LC 39A    0         5\n",
            "              1        44\n",
            "VAFB SLC 4E   0         3\n",
            "              1        23\n",
            "dtype: int64\n"
          ]
        }
      ]
    },
    {
      "cell_type": "markdown",
      "metadata": {
        "id": "8UilIp1yU9G-"
      },
      "source": [
        "*Exporta los datos en un archivo llamado `dataset_part_2.csv` con `index=False`. \n",
        "Descarga el archivo porque será necesario en la siguiente práctica.*\n"
      ]
    },
    {
      "cell_type": "code",
      "source": [
        "df.to_csv(\"dataset_part_2.csv\", index=False)"
      ],
      "metadata": {
        "id": "1uth3da5cbpW"
      },
      "execution_count": 134,
      "outputs": []
    }
  ],
  "metadata": {
    "kernelspec": {
      "display_name": "Python 3.10.6 64-bit",
      "language": "python",
      "name": "python3"
    },
    "language_info": {
      "codemirror_mode": {
        "name": "ipython",
        "version": 3
      },
      "file_extension": ".py",
      "mimetype": "text/x-python",
      "name": "python",
      "nbconvert_exporter": "python",
      "pygments_lexer": "ipython3",
      "version": "3.10.6"
    },
    "vscode": {
      "interpreter": {
        "hash": "aee8b7b246df8f9039afb4144a1f6fd8d2ca17a180786b69acc140d282b71a49"
      }
    },
    "colab": {
      "provenance": [],
      "include_colab_link": true
    }
  },
  "nbformat": 4,
  "nbformat_minor": 0
}